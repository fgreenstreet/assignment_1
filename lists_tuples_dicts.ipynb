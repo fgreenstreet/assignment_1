{
 "cells": [
  {
   "cell_type": "markdown",
   "metadata": {},
   "source": [
    " # Question 1\n",
    " - make replicate_me 10 times longer i.e. [1] >> [1, 1, 1, 1, 1, 1, 1, 1, 1, 1]"
   ]
  },
  {
   "cell_type": "code",
   "execution_count": 3,
   "metadata": {
    "collapsed": true
   },
   "outputs": [],
   "source": [
    "replicate_me = [1]\n",
    "long_replicate_me = replicate_me*10\n"
   ]
  },
  {
   "cell_type": "markdown",
   "metadata": {},
   "source": [
    "- combine the newly extended replicate_me with replicate_me\n"
   ]
  },
  {
   "cell_type": "code",
   "execution_count": 4,
   "metadata": {
    "collapsed": true
   },
   "outputs": [],
   "source": [
    "replicate_me = long_replicate_me + replicate_me"
   ]
  },
  {
   "cell_type": "markdown",
   "metadata": {},
   "source": [
    "- replace the 4th number in the list with the variable substitute_me\n",
    "    - do it again with a different method(done on 3rd element)"
   ]
  },
  {
   "cell_type": "code",
   "execution_count": 5,
   "metadata": {},
   "outputs": [
    {
     "name": "stdout",
     "output_type": "stream",
     "text": [
      "[1, 1, 1, ['surprise!'], 1, 1, 1, 1, 1, 1, 1]\n"
     ]
    }
   ],
   "source": [
    "substitute_me = ['surprise!']\n",
    "replicate_me[3] = substitute_me \n",
    "print(replicate_me)"
   ]
  },
  {
   "cell_type": "code",
   "execution_count": 6,
   "metadata": {},
   "outputs": [
    {
     "name": "stdout",
     "output_type": "stream",
     "text": [
      "[1, 1, ['not very surprising'], ['surprise!'], 1, 1, 1, 1, 1, 1, 1]\n"
     ]
    }
   ],
   "source": [
    "replicate_me.pop(2)\n",
    "replicate_me.insert(2,['not very surprising'])\n",
    "print(replicate_me)"
   ]
  },
  {
   "cell_type": "markdown",
   "metadata": {},
   "source": [
    "- replace every other element in the list with the number 5\n",
    "    - HINT: you can do this in a single command"
   ]
  },
  {
   "cell_type": "code",
   "execution_count": 12,
   "metadata": {},
   "outputs": [
    {
     "name": "stdout",
     "output_type": "stream",
     "text": [
      "[5, 1, 5, ['surprise!'], 5, 1, 5, 1, 5, 1, 5]\n"
     ]
    }
   ],
   "source": [
    "replicate_me[0::2] = len(replicate_me[0::2])*[5]\n",
    "print(replicate_me)"
   ]
  },
  {
   "cell_type": "markdown",
   "metadata": {},
   "source": [
    "- delete elements 5-8 from the list\n",
    "- add the numbers 8, 13 and the string 'hello' to the end of your list\n",
    "    - do it again with a different method\n",
    "- reverse the order of the list\n",
    "- in one statement, return the 5th element of your list and remove it from the list\n",
    "- assign your list to a new variable called 'copy_of_list'\n",
    "- change all the elements in this new list to zeros\n",
    "- print out the original list (not the copy)\n",
    "- what happens? did you expect that? find a way to copy the list properly\n",
    "    - think about or read about why this is the case in python"
   ]
  },
  {
   "cell_type": "code",
   "execution_count": 29,
   "metadata": {},
   "outputs": [
    {
     "name": "stdout",
     "output_type": "stream",
     "text": [
      "[5, 1, 5, ['surprise!'], 1, 5, 1, 5]\n"
     ]
    }
   ],
   "source": [
    "replicate_me[4:7]=[]\n",
    "print(replicate_me)"
   ]
  },
  {
   "cell_type": "code",
   "execution_count": 30,
   "metadata": {},
   "outputs": [
    {
     "name": "stdout",
     "output_type": "stream",
     "text": [
      "[5, 1, 5, ['surprise!'], 1, 5, 1, 5, 8, 13, 'hello']\n"
     ]
    }
   ],
   "source": [
    "replicate_me.extend([8, 13, 'hello'])\n",
    "print(replicate_me)"
   ]
  },
  {
   "cell_type": "code",
   "execution_count": 33,
   "metadata": {},
   "outputs": [
    {
     "name": "stdout",
     "output_type": "stream",
     "text": [
      "[5, 1, 5, ['surprise!'], 1, 5, 1, 5, 8, 'hello']\n"
     ]
    }
   ],
   "source": [
    "replicate_me.reverse()\n",
    "print(replicate_me)"
   ]
  },
  {
   "cell_type": "code",
   "execution_count": 51,
   "metadata": {},
   "outputs": [
    {
     "data": {
      "text/plain": [
       "1"
      ]
     },
     "execution_count": 51,
     "metadata": {},
     "output_type": "execute_result"
    }
   ],
   "source": [
    "replicate_me.pop(replicate_me[4])"
   ]
  },
  {
   "cell_type": "code",
   "execution_count": 52,
   "metadata": {},
   "outputs": [
    {
     "name": "stdout",
     "output_type": "stream",
     "text": [
      "[5, 5, ['surprise!'], 1, 5, 5, 8, 'hello']\n"
     ]
    }
   ],
   "source": [
    "copy_of_list = replicate_me.copy()\n",
    "print(copy_of_list)"
   ]
  },
  {
   "cell_type": "code",
   "execution_count": 53,
   "metadata": {},
   "outputs": [
    {
     "name": "stdout",
     "output_type": "stream",
     "text": [
      "[0, 0, 0, 0, 0, 0, 0, 0]\n"
     ]
    }
   ],
   "source": [
    "copy_of_list[0:len(copy_of_list)]=[0]*len(copy_of_list)\n",
    "print(copy_of_list)"
   ]
  },
  {
   "cell_type": "code",
   "execution_count": 54,
   "metadata": {},
   "outputs": [
    {
     "name": "stdout",
     "output_type": "stream",
     "text": [
      "[5, 5, ['surprise!'], 1, 5, 5, 8, 'hello']\n"
     ]
    }
   ],
   "source": [
    "print(replicate_me)"
   ]
  },
  {
   "cell_type": "markdown",
   "metadata": {},
   "source": [
    "# Question 2\n",
    "You have some experimental data (trials_1 and trials_2) which contain a sub-list for each experimental trial. Each number is the number of spikes for a single cell, an empty sublist means no spikes were detected during the trial\n"
   ]
  },
  {
   "cell_type": "code",
   "execution_count": 15,
   "metadata": {
    "collapsed": true
   },
   "outputs": [],
   "source": [
    "experiment_1_trials =   [[1, 2, 3, 6],\n",
    "\t\t         [],\n",
    "\t\t         [],\n",
    "\t\t         [4, 5, 6, 7, 8, 3, 12, 2],\n",
    "\t\t         [2],\n",
    "\t\t         [9, 10, 11, 63],\n",
    "\t\t         [123, 2, 2],\n",
    "\t\t         [199, 2, 24, 5, 66],\n",
    "\t\t         [],\n",
    "\t\t         [2, 3, 5, 6], \n",
    "\t\t\t [4]\n",
    "\t\t        ]\n",
    "\n",
    "experiment_2_trials =   [[12, 43, 2, 2],\n",
    "\t\t         [2],\n",
    "\t\t         [],\n",
    "\t\t         [],\n",
    "\t\t         [1, 2, 3, 5]\n",
    "\t\t        ]\n"
   ]
  },
  {
   "cell_type": "markdown",
   "metadata": {},
   "source": [
    "- make one list called all_trials that contains all of experiment_1_trials and experiment_2_trials\n",
    "- see if you can do this in three different ways\n",
    "- calculate the sum of the 2nd and 3rd cells of the 1st and 4th trials\n",
    "- if you did this with a loop, do it again by indexing\n",
    "- print the number of cells firing in each trial\n",
    "- how many of the trials contain the number 2?"
   ]
  },
  {
   "cell_type": "code",
   "execution_count": 16,
   "metadata": {},
   "outputs": [
    {
     "name": "stdout",
     "output_type": "stream",
     "text": [
      "[[1, 2, 3, 6], [], [], [4, 5, 6, 7, 8, 3, 12, 2], [2], [9, 10, 11, 63], [123, 2, 2], [199, 2, 24, 5, 66], [], [2, 3, 5, 6], [4], [12, 43, 2, 2], [2], [], [], [1, 2, 3, 5]]\n",
      "[[1, 2, 3, 6], [], [], [4, 5, 6, 7, 8, 3, 12, 2], [2], [9, 10, 11, 63], [123, 2, 2], [199, 2, 24, 5, 66], [], [2, 3, 5, 6], [4], [12, 43, 2, 2], [2], [], [], [1, 2, 3, 5]]\n",
      "[[1, 2, 3, 6], [], [], [4, 5, 6, 7, 8, 3, 12, 2], [2], [9, 10, 11, 63], [123, 2, 2], [199, 2, 24, 5, 66], [], [2, 3, 5, 6], [4], [12, 43, 2, 2], [2], [], [], [1, 2, 3, 5]]\n"
     ]
    }
   ],
   "source": [
    "import itertools\n",
    "#method 1\n",
    "all_trials1 = experiment_1_trials + experiment_2_trials\n",
    "print(all_trials1)\n",
    "\n",
    "#method 2\n",
    "all_trials2 = experiment_1_trials.copy()\n",
    "all_trials2.extend(experiment_2_trials)\n",
    "print(all_trials2)\n",
    "\n",
    "#method 3\n",
    "all_trials3 = [trial for trial in itertools.chain(experiment_1_trials, experiment_2_trials)]\n",
    "print(all_trials3)"
   ]
  },
  {
   "cell_type": "code",
   "execution_count": 17,
   "metadata": {},
   "outputs": [
    {
     "data": {
      "text/plain": [
       "8"
      ]
     },
     "execution_count": 17,
     "metadata": {},
     "output_type": "execute_result"
    }
   ],
   "source": [
    "experiment_1_trials[0][1] + experiment_1_trials[3][2]"
   ]
  },
  {
   "cell_type": "code",
   "execution_count": 18,
   "metadata": {},
   "outputs": [
    {
     "name": "stdout",
     "output_type": "stream",
     "text": [
      "[4, 0, 0, 8, 1, 4, 3, 5, 0, 4, 1]\n"
     ]
    }
   ],
   "source": [
    "num_trials = [len(trial) for trial in experiment_1_trials]\n",
    "print(num_trials)"
   ]
  },
  {
   "cell_type": "code",
   "execution_count": 83,
   "metadata": {},
   "outputs": [
    {
     "data": {
      "text/plain": [
       "6"
      ]
     },
     "execution_count": 83,
     "metadata": {},
     "output_type": "execute_result"
    }
   ],
   "source": [
    "experiment_1_trials.count([2])"
   ]
  },
  {
   "cell_type": "markdown",
   "metadata": {},
   "source": [
    "Because you, the experimenter, used an outdated form of note taking, consisting of writing things down on tissues instead of a lab book or database you forgot that you actually did a trial in between experiment_1_trials and experiment_2_trials:"
   ]
  },
  {
   "cell_type": "code",
   "execution_count": 84,
   "metadata": {
    "collapsed": true
   },
   "outputs": [],
   "source": [
    "new_trial = [1, 3, 5, None, 5, 6, float('NaN')]"
   ]
  },
  {
   "cell_type": "markdown",
   "metadata": {},
   "source": [
    "- clean the new_trial to remove any non-numeric elements\n",
    "- insert new_trial into the main list in between experiment_1_trials and experiment_2_trials\n",
    "- ideally do this on the list you have already, don't rebuild the list from the original components\n",
    "- something went wrong on your last trial, but you want to keep the data somewhere in case you need it again\n",
    "    - obtain and remove it from the list\n",
    "    - do the same for the 4th trial\n",
    "- do so using a built-in list method\n",
    "\n",
    "- find out the number of trials where no cells fired\n",
    "- remove any empty trials from your list\n",
    "- if you do this with a simple for loop, do you get the result you expect? if not, why not?\n",
    "- if you didn't already, try these again using built-in list methods (where applicable)\n",
    "\n",
    "- remove all trials that contain less than 3 elements\n",
    "- create a list containing the number of spikes of the second cell of each of the remaining trials\n",
    "\n",
    "- flatten the list (i.e. remove the nesting, but keep the values) to make one list of all spike counts\n",
    "- put the numbers in descending order - with and without changing the original list \n"
   ]
  },
  {
   "cell_type": "code",
   "execution_count": 105,
   "metadata": {},
   "outputs": [
    {
     "name": "stdout",
     "output_type": "stream",
     "text": [
      "[1, 3, 5, 5, 6]\n"
     ]
    }
   ],
   "source": [
    "cleaned_new_trial = [val for val in new_trial if isinstance(val, int)]\n",
    "print(cleaned_new_trial )"
   ]
  },
  {
   "cell_type": "code",
   "execution_count": 106,
   "metadata": {},
   "outputs": [
    {
     "name": "stdout",
     "output_type": "stream",
     "text": [
      "[[1, 2, 3, 6], [1, 3, 5, 5, 6], [], [], [4, 5, 6, 7, 8, 3, 12, 2], [2], [9, 10, 11, 63], [123, 2, 2], [199, 2, 24, 5, 66], [], [2, 3, 5, 6], [4], [12, 43, 2, 2], [2], [], [], [1, 2, 3, 5], [12, 43, 2, 2], [2], [], [], [1, 2, 3, 5], [12, 43, 2, 2], [2], [], [], [1, 2, 3, 5], [12, 43, 2, 2], [2], [], [], [1, 2, 3, 5], [12, 43, 2, 2], [2], [], [], [1, 2, 3, 5], [12, 43, 2, 2], [2], [], [], [1, 2, 3, 5]]\n"
     ]
    }
   ],
   "source": [
    "all_trials1.insert(1, cleaned_new_trial)\n",
    "print(all_trials1)"
   ]
  },
  {
   "cell_type": "code",
   "execution_count": 107,
   "metadata": {},
   "outputs": [
    {
     "data": {
      "text/plain": [
       "[]"
      ]
     },
     "execution_count": 107,
     "metadata": {},
     "output_type": "execute_result"
    }
   ],
   "source": [
    "all_trials1.pop(-1)\n",
    "all_trials1.pop(3)"
   ]
  },
  {
   "cell_type": "code",
   "execution_count": 21,
   "metadata": {
    "collapsed": true
   },
   "outputs": [],
   "source": [
    "trials_no_firing = all_trials1.count([])"
   ]
  },
  {
   "cell_type": "code",
   "execution_count": 22,
   "metadata": {},
   "outputs": [
    {
     "name": "stdout",
     "output_type": "stream",
     "text": [
      "[[1, 2, 3, 6], [4, 5, 6, 7, 8, 3, 12, 2], [2], [9, 10, 11, 63], [123, 2, 2], [199, 2, 24, 5, 66], [2, 3, 5, 6], [4], [12, 43, 2, 2], [2], [1, 2, 3, 5]]\n"
     ]
    }
   ],
   "source": [
    "no_empty_trials = list(filter(lambda x: x != [], all_trials1))\n",
    "print(no_empty_trials)"
   ]
  },
  {
   "cell_type": "code",
   "execution_count": 23,
   "metadata": {},
   "outputs": [
    {
     "name": "stdout",
     "output_type": "stream",
     "text": [
      "[[1, 2, 3, 6], [4, 5, 6, 7, 8, 3, 12, 2], [2], [9, 10, 11, 63], [123, 2, 2], [199, 2, 24, 5, 66], [2, 3, 5, 6], [4], [12, 43, 2, 2], [2], [1, 2, 3, 5]]\n"
     ]
    }
   ],
   "source": [
    "spiking_trials = [trial for trial in all_trials1 if trial != []]\n",
    "print(spiking_trials)"
   ]
  },
  {
   "cell_type": "code",
   "execution_count": 24,
   "metadata": {},
   "outputs": [
    {
     "ename": "NameError",
     "evalue": "name 'filtered_list' is not defined",
     "output_type": "error",
     "traceback": [
      "\u001b[0;31m---------------------------------------------------------------------------\u001b[0m",
      "\u001b[0;31mNameError\u001b[0m                                 Traceback (most recent call last)",
      "\u001b[0;32m<ipython-input-24-0ce4ec10db38>\u001b[0m in \u001b[0;36m<module>\u001b[0;34m()\u001b[0m\n\u001b[1;32m      1\u001b[0m \u001b[0mmore_than_3\u001b[0m \u001b[0;34m=\u001b[0m \u001b[0mlist\u001b[0m\u001b[0;34m(\u001b[0m\u001b[0mfilter\u001b[0m\u001b[0;34m(\u001b[0m\u001b[0;32mlambda\u001b[0m \u001b[0mx\u001b[0m\u001b[0;34m:\u001b[0m \u001b[0mlen\u001b[0m\u001b[0;34m(\u001b[0m\u001b[0mx\u001b[0m\u001b[0;34m)\u001b[0m \u001b[0;34m>\u001b[0m\u001b[0;36m3\u001b[0m\u001b[0;34m,\u001b[0m \u001b[0mall_trials1\u001b[0m\u001b[0;34m)\u001b[0m\u001b[0;34m)\u001b[0m\u001b[0;34m\u001b[0m\u001b[0m\n\u001b[0;32m----> 2\u001b[0;31m \u001b[0mprint\u001b[0m\u001b[0;34m(\u001b[0m\u001b[0mfiltered_list\u001b[0m\u001b[0;34m)\u001b[0m\u001b[0;34m\u001b[0m\u001b[0m\n\u001b[0m",
      "\u001b[0;31mNameError\u001b[0m: name 'filtered_list' is not defined"
     ]
    }
   ],
   "source": [
    "more_than_3 = list(filter(lambda x: len(x) >3, all_trials1))\n",
    "print(filtered_list)"
   ]
  },
  {
   "cell_type": "code",
   "execution_count": 25,
   "metadata": {},
   "outputs": [
    {
     "name": "stdout",
     "output_type": "stream",
     "text": [
      "[2, 5, 10, 2, 2, 3, 43, 2]\n"
     ]
    }
   ],
   "source": [
    "cell2 = [trial[1] for trial in spiking_trials if len(trial)>1]\n",
    "print(cell2)"
   ]
  },
  {
   "cell_type": "code",
   "execution_count": 26,
   "metadata": {},
   "outputs": [
    {
     "name": "stdout",
     "output_type": "stream",
     "text": [
      "[1, 2, 3, 6, 4, 5, 6, 7, 8, 3, 12, 2, 2, 9, 10, 11, 63, 123, 2, 2, 199, 2, 24, 5, 66, 2, 3, 5, 6, 4, 12, 43, 2, 2, 2, 1, 2, 3, 5]\n"
     ]
    }
   ],
   "source": [
    "flattened_trials = [spike for trial in spiking_trials for spike in trial]\n",
    "print(flattened_trials)"
   ]
  },
  {
   "cell_type": "code",
   "execution_count": 27,
   "metadata": {},
   "outputs": [
    {
     "name": "stdout",
     "output_type": "stream",
     "text": [
      "sorted by size:  [199, 123, 66, 63, 43, 24, 12, 12, 11, 10, 9, 8, 7, 6, 6, 6, 5, 5, 5, 5, 4, 4, 3, 3, 3, 3, 2, 2, 2, 2, 2, 2, 2, 2, 2, 2, 2, 1, 1]\n",
      "flattened:  [1, 2, 3, 6, 4, 5, 6, 7, 8, 3, 12, 2, 2, 9, 10, 11, 63, 123, 2, 2, 199, 2, 24, 5, 66, 2, 3, 5, 6, 4, 12, 43, 2, 2, 2, 1, 2, 3, 5]\n"
     ]
    }
   ],
   "source": [
    "sorted_by_size = flattened_trials.copy()\n",
    "sorted_by_size.sort()\n",
    "sorted_by_size.reverse()\n",
    "print('sorted by size: ', sorted_by_size)\n",
    "print('flattened: ', flattened_trials)\n"
   ]
  },
  {
   "cell_type": "markdown",
   "metadata": {},
   "source": [
    "# Question 3\n",
    "- use `range()` to create a list of numbers 1-100\n",
    "- check the type of your result\n",
    "- make a list of all numbers up to 100 squared \n",
    "- make a list of all the numbers in the list of squared numbers that are multiples of 9\n",
    "- reverse the order of each sublist in the list_of_x_y_coordinates (i.e. [1,2], [3,5] >> [2,1], [5,3])"
   ]
  },
  {
   "cell_type": "code",
   "execution_count": 155,
   "metadata": {},
   "outputs": [
    {
     "data": {
      "text/plain": [
       "range"
      ]
     },
     "execution_count": 155,
     "metadata": {},
     "output_type": "execute_result"
    }
   ],
   "source": [
    "type(range(1,101))"
   ]
  },
  {
   "cell_type": "code",
   "execution_count": 157,
   "metadata": {
    "collapsed": true
   },
   "outputs": [],
   "source": [
    "squares = [x**2 for x in range(1,101)]"
   ]
  },
  {
   "cell_type": "code",
   "execution_count": 160,
   "metadata": {},
   "outputs": [
    {
     "name": "stdout",
     "output_type": "stream",
     "text": [
      "[9, 36, 81, 144, 225, 324, 441, 576, 729, 900, 1089, 1296, 1521, 1764, 2025, 2304, 2601, 2916, 3249, 3600, 3969, 4356, 4761, 5184, 5625, 6084, 6561, 7056, 7569, 8100, 8649, 9216, 9801]\n"
     ]
    }
   ],
   "source": [
    "multiples_9_squares = [x**2 for x in range(1,101) if x**2%9 == 0]\n",
    "print(multiples_9_squares)"
   ]
  },
  {
   "cell_type": "code",
   "execution_count": 165,
   "metadata": {},
   "outputs": [
    {
     "name": "stdout",
     "output_type": "stream",
     "text": [
      "[[20, 10], [6, 5], [5, 3], [2, 1]]\n"
     ]
    }
   ],
   "source": [
    "list_of_x_y_coordinates = [[1, 2], [3, 5], [5, 6], [10, 20]]\n",
    "reversed_x_y = [x[::-1] for  x in reversed(list_of_x_y_coordinates)]\n",
    "print(reversed_x_y)"
   ]
  },
  {
   "cell_type": "markdown",
   "metadata": {},
   "source": [
    "# Question 4\n",
    "\n",
    "- check if the number 5 is in the coordinates tuple\n",
    "- try to change the y coordinate to 15\n",
    "    - note that you can't do this - tuples are immutable\n",
    "    - think about why/when that might be useful\n",
    "- think about when it might not be useful\n",
    "- if you first cast the tuple into a different type (one that you know is mutable) then you can change the coordinate - try this now\n",
    "\n",
    "- in this example, you only care about x and y together, but not z\n",
    "- try to use something called tuple unpacking to separate coordinates into the variables loc_2d and z\n"
   ]
  },
  {
   "cell_type": "code",
   "execution_count": 28,
   "metadata": {},
   "outputs": [
    {
     "name": "stdout",
     "output_type": "stream",
     "text": [
      "1\n",
      "True\n"
     ]
    }
   ],
   "source": [
    "x = 10\n",
    "y = 10\n",
    "z = 5\n",
    "coordinates = x, y, z\n",
    "# 2 ways of checking if something is there:\n",
    "print(coordinates.count(5))\n",
    "print(5 in coordinates)"
   ]
  },
  {
   "cell_type": "code",
   "execution_count": 170,
   "metadata": {},
   "outputs": [
    {
     "name": "stdout",
     "output_type": "stream",
     "text": [
      "[10, 15, 5]\n"
     ]
    }
   ],
   "source": [
    "coordinates1 = list(coordinates)\n",
    "coordinates1[1] = 15\n",
    "print(coordinates1)"
   ]
  },
  {
   "cell_type": "code",
   "execution_count": 171,
   "metadata": {
    "collapsed": true
   },
   "outputs": [],
   "source": [
    "X, Y, Z = coordinates"
   ]
  },
  {
   "cell_type": "code",
   "execution_count": 172,
   "metadata": {},
   "outputs": [
    {
     "name": "stdout",
     "output_type": "stream",
     "text": [
      "(10, 10)\n"
     ]
    }
   ],
   "source": [
    "loc_2d = X, Y\n",
    "print(loc_2d)"
   ]
  },
  {
   "cell_type": "markdown",
   "metadata": {},
   "source": [
    "- use the same principle to put all the first 4 string variables into a single variable, and the dictionary in its own variable such that:\n",
    "```python\n",
    "variable_1 = 'this', 'is', 'quite', 'stringy'\n",
    "variable_2 = {'dictionary': 100, 'stuff': 340, 'here': 23424}\n",
    "```"
   ]
  },
  {
   "cell_type": "code",
   "execution_count": 9,
   "metadata": {
    "collapsed": true
   },
   "outputs": [],
   "source": [
    "example_tuple = 'this', 'is', 'quite', 'stringy', {'dictionary': 100, 'stuff': 340, 'here': 23424}\n",
    "a, b, c, d, e = example_tuple\n",
    "variable1 = a, b, c, d\n",
    "variable2 = e"
   ]
  },
  {
   "cell_type": "markdown",
   "metadata": {},
   "source": [
    "# Question 5\n",
    "\n",
    "- read the stimulus_starts and stimulus_ends from the stimulus_parameters.txt file\n",
    "- put them into a dictionary such that anything to the left of '=' is a key, and anything to the right is a value\n",
    "- save your dictionary to a file for later on\n",
    "- load your dictionary from earlier\n",
    "- loop over and print the following: \n",
    "   - all the keys in the dictionary\n",
    "   - all values in the dictionary\n",
    "   - both\n",
    "\n",
    "- get the stimulus starts and ends and put them into the following variables:\n",
    "    - do this using the dictionary key\n",
    "    - do this in a way that both returns the values, and also removes them from the dictionary (HINT: look at built-in dictionary methods)\n",
    "    - make sure that each entry in the list is an integer type, not a string\n",
    "\n",
    "```python\n",
    "stimulus_starts =\n",
    "stimulus_ends =\n",
    "```\n",
    "\n",
    "- loop through the starts and ends simultaneously and print them out\n",
    "\n",
    "- if you didn't already, use the built in function zip\n",
    "- to understand how this works, cast your zipped lists into a list and print it to the console\n",
    "- what happens if the two lists are of different lengths?\n",
    "- use zip and print out the start and end of the third stimulus\n",
    "\n",
    "- HINT/BONUS (recommended): you could try using a package called configobj for a 1 line solution to the first 4 parts of this question"
   ]
  },
  {
   "cell_type": "code",
   "execution_count": 34,
   "metadata": {},
   "outputs": [
    {
     "name": "stdout",
     "output_type": "stream",
     "text": [
      "stimulus_starts\n",
      "['352400', '3050641', '5797363', '8503226', '11474947', '14262558']\n",
      "stimulus_starts ['352400', '3050641', '5797363', '8503226', '11474947', '14262558']\n",
      "stimulus_ends\n",
      "['2897089', '5595331', '8342053', '11047916', '14019637', '16807248']\n",
      "stimulus_ends ['2897089', '5595331', '8342053', '11047916', '14019637', '16807248']\n",
      "352400 2897089\n",
      "3050641 5595331\n",
      "5797363 8342053\n",
      "8503226 11047916\n",
      "11474947 14019637\n",
      "14262558 16807248\n",
      "zipped list: [(352400, 2897089), (3050641, 5595331), (5797363, 8342053), (8503226, 11047916), (11474947, 14019637), (14262558, 16807248)]\n",
      "shorter zip: [(1, 2897089)]\n",
      "3rd stim: (5797363, 8342053)\n"
     ]
    }
   ],
   "source": [
    "import os\n",
    "import configobj \n",
    "import pickle\n",
    "\n",
    "os.chdir('/Users/fmjgreenstreet/Documents/PyStarters/pystarters-master 2/week_1/assignments/resources')\n",
    "config = configobj.ConfigObj('stimulus_parameters.ini')\n",
    "stim_info = {'stimulus_starts': config['stimulus_starts'], 'stimulus_ends': config['stimulus_ends']}\n",
    "pickle.dump(stim_info, open( \"stim_info.p\", \"wb\" ))\n",
    "loaded_stim_info = pickle.load( open( \"stim_info.p\", \"rb\" ))\n",
    "\n",
    "for k,v in loaded_stim_info.items():\n",
    "    print(k)\n",
    "    print(v)\n",
    "    print(k, v)\n",
    "stimulus_starts1 = loaded_stim_info['stimulus_starts']\n",
    "stimulus_ends1 = loaded_stim_info['stimulus_ends']\n",
    "\n",
    "stimulus_starts2 = list(map(int, loaded_stim_info.pop('stimulus_starts')))\n",
    "stimulus_ends2 = list(map(int, loaded_stim_info.pop('stimulus_ends')))\n",
    "\n",
    "for starts, ends in list(zip(stimulus_starts2, stimulus_ends2)):\n",
    "    print (starts, ends)\n",
    "print('zipped list:', list(zip(stimulus_starts2, stimulus_ends2)))\n",
    "\n",
    "shorter_list = [1]\n",
    "print('shorter zip:', list(zip(shorter_list, stimulus_ends2))) #just the first value zips. Zipping stops when one list runs out of vals\n",
    "print('3rd stim:', list(zip(stimulus_starts2, stimulus_ends2))[2])"
   ]
  },
  {
   "cell_type": "markdown",
   "metadata": {},
   "source": [
    "# Question 6\n",
    "Imagine a (quite stupid because the keys don't do much) hypothetical dictionary like the one below to store postsynaptic events that contains the name of the event as a key and the time start, time end and amplitude as a tuple.\n",
    "\t\n",
    "- Using dictionary comprehension, return a dictionary (of the same not very smart format) that contains only events with\n",
    "- an amplitude > 20\n",
    "- a duration of 1\n",
    "- a duration between 2 and 4\n"
   ]
  },
  {
   "cell_type": "code",
   "execution_count": 8,
   "metadata": {},
   "outputs": [
    {
     "name": "stdout",
     "output_type": "stream",
     "text": [
      "{'e6': (35, 38, 7)}\n"
     ]
    }
   ],
   "source": [
    "synaptic_events = {\n",
    "    'e1': (10, 12, 22),\n",
    "    'e2': (15, 17, 12),\n",
    "    'e3': (20, 21, 25),\n",
    "    'e4': (25, 27, 32),\n",
    "    'e5': (30, 32, 5),\n",
    "    'e6': (35, 38, 7),\n",
    "    'e7': (40, 45, 48),\n",
    "    'e8': (46, 47, 12),\n",
    "    'e9': (49, 50, 47),\n",
    "    'e10': (51, 53, 22)\n",
    "}\n",
    "\n",
    "amp_20 = {key:value for (key,value) in synaptic_events.items() if value[2] > 20}\n",
    "dur_1 = {key:value for (key,value) in synaptic_events.items() if value[1] - value[0] == 1}\n",
    "dur2_4 = {key:value for (key,value) in synaptic_events.items() if 4 > value[1] - value[0] > 2}"
   ]
  },
  {
   "cell_type": "code",
   "execution_count": null,
   "metadata": {
    "collapsed": true
   },
   "outputs": [],
   "source": []
  }
 ],
 "metadata": {
  "kernelspec": {
   "display_name": "Python 3",
   "language": "python",
   "name": "python3"
  },
  "language_info": {
   "codemirror_mode": {
    "name": "ipython",
    "version": 3
   },
   "file_extension": ".py",
   "mimetype": "text/x-python",
   "name": "python",
   "nbconvert_exporter": "python",
   "pygments_lexer": "ipython3",
   "version": "3.6.4"
  }
 },
 "nbformat": 4,
 "nbformat_minor": 2
}
