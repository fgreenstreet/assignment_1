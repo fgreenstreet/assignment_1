{
 "cells": [
  {
   "cell_type": "markdown",
   "metadata": {},
   "source": [
    "# python as a calculator\n",
    "FOR A FULL LIST OF MATHEMATICAL OPERATIONS IN PYTHON SEE: \n",
    "https://www.tutorialspoint.com/python/python_basic_operators.htm \n",
    "This will be useful later, so only skip it if you know it already"
   ]
  },
  {
   "cell_type": "code",
   "execution_count": 39,
   "metadata": {},
   "outputs": [
    {
     "name": "stdout",
     "output_type": "stream",
     "text": [
      "21.926145564099738\n"
     ]
    }
   ],
   "source": [
    "# QUESTION 1\n",
    "# python can be used like a sort of overkill calculator\n",
    "\n",
    "# a) for these numbers 3, 56, 6, 3, 44, 5, 6, 7775, 32353, 34534, 345:\n",
    "    # find the largest number\n",
    "    # find the smallest number\n",
    "    # find the sum of all the numbers\n",
    "    # use the statistics module to compute:\n",
    "        # the mean\n",
    "        # the median\n",
    "        # the variance\n",
    "        # and standard deviation\n",
    "        \n",
    "import math\n",
    "import statistics\n",
    "import random\n",
    "q1 = [3, 56, 6, 3, 44, 5, 6, 7775, 32353, 34534, 345]\n",
    "max(q1)\n",
    "min(q1)\n",
    "sum(q1)\n",
    "statistics.mean(q1) \n",
    "statistics.variance(q1)\n",
    "statistics.stdev(q1)\n",
    "\n",
    "# b) use the math module to do the following:\n",
    "    # print:\n",
    "        # the value of pi rounded down to the nearest whole number       \n",
    "pi = math.pi\n",
    "math.floor(pi)\n",
    "        # the value of pi rounded up to nearest whole number\n",
    "math.ceil(pi)\n",
    "        # the square root of pi\n",
    "math.sqrt(pi)\n",
    "        # the log of pi\n",
    "math.log(pi)\n",
    "       \n",
    "# c) calculate pi squared divided by pi cubed\n",
    "pi**2/pi**3\n",
    "\n",
    "# d) generate some random numbers\n",
    "random.random()\n",
    "random_number = random.randint(0,6)\n",
    "\n",
    "# e) what is sine(pi/2), sine(pi/4), sine(pi/8)\n",
    "math.sin(pi/2)\n",
    "math.sin(pi/4)\n",
    "math.sin(pi/8)\n",
    "\n",
    "# f) if the result is in radians, convert it to degrees\n",
    "trig_calc = math.degrees(math.sin(pi/8))\n",
    "\n",
    "# g) cast your result from a float into a string\n",
    "trig_calc = str(trig_calc)\n",
    "print(trig_calc)"
   ]
  },
  {
   "cell_type": "markdown",
   "metadata": {},
   "source": [
    "# variable assignment"
   ]
  },
  {
   "cell_type": "code",
   "execution_count": 1,
   "metadata": {
    "collapsed": true
   },
   "outputs": [],
   "source": [
    "# QUESTION 2\n",
    "# a) assign the number 3 to a variable called width, and the number 110 to a variable called height\n",
    "# b) calculate the area and assign it to a new variable called area\n",
    "# c) turns out you got the width and height mixed up, see if you can swap them without re-declaring the width and height variables\n",
    "# d) assign the width and height variables in a single statement\n",
    "\n",
    "width = 3\n",
    "height = 110\n",
    "area = width * height\n",
    "width, height = height, width\n",
    "width, height = 110, 3"
   ]
  },
  {
   "cell_type": "markdown",
   "metadata": {},
   "source": [
    "# control flow - using statements"
   ]
  },
  {
   "cell_type": "code",
   "execution_count": 3,
   "metadata": {},
   "outputs": [
    {
     "name": "stdout",
     "output_type": "stream",
     "text": [
      "0\n",
      "the number is not 4\n",
      "1\n",
      "the number is not 4\n",
      "2\n",
      "the number is not 4\n",
      "3\n",
      "the number is not 4\n",
      "4\n",
      "the number is  4\n",
      "5\n",
      "the number is not 4\n",
      "6\n",
      "the number is not 4\n",
      "7\n",
      "the number is not 4\n",
      "8\n",
      "the number is not 4\n",
      "9\n",
      "the number is not 4\n",
      "10\n",
      "the number is not 4\n",
      "0\n",
      "1\n",
      "2\n",
      "3\n",
      "4\n",
      "5\n",
      "6\n",
      "7\n",
      "8\n",
      "9\n",
      "10\n"
     ]
    }
   ],
   "source": [
    "# QUESTION 3\n",
    "# a) write a simple for loop that counts up to 10 and prints the value\n",
    "# b) use an if statement to print 4 if the value is 4\n",
    "# c) add an else clause to print 'the number is not 4' when it is not 4\n",
    "# d) use an if statement to print if the value is anything other than 4\n",
    "# e) rewrite this using a while loop (HINT: try out using the += operation)\n",
    "\n",
    "for counts in range(0, 11):\n",
    "    print(counts)\n",
    "    if counts == 4:\n",
    "        print('the number is ', counts)\n",
    "    else:\n",
    "        print('the number is not 4')\n",
    "        \n",
    "counts = 0        \n",
    "while counts < 11:\n",
    "    print(counts)\n",
    "    if counts == 4:\n",
    "        print('the number is ', counts)\n",
    "    else:\n",
    "        print('the number is not 4')\n",
    "    counts += 1"
   ]
  },
  {
   "cell_type": "markdown",
   "metadata": {
    "collapsed": true
   },
   "source": [
    "# string manipulation\n",
    "IMPORTANT: if you are uncertain what is meant by built-in method, have a look here (https://docs.python.org/3/library/stdtypes.html) at the different functionality that is built-in to each data type\n"
   ]
  },
  {
   "cell_type": "code",
   "execution_count": 8,
   "metadata": {},
   "outputs": [
    {
     "name": "stdout",
     "output_type": "stream",
     "text": [
      "Welcome to Pystarters\n",
      "          please add the same number of spaces on my left as on my right                       \n",
      "pleaseremovethespacearoundme               please remove the space on my right\n",
      "pleaseremovethespacearoundme               please remove the space on my right\n",
      "6\n",
      "9\n",
      "23\"\\34\u0013\\/\n"
     ]
    }
   ],
   "source": [
    "import math\n",
    "import re\n",
    "\n",
    "#QUESTION 4\n",
    "\n",
    "# a) remove all digits and special characters from the secret message\n",
    "# b) replace all every letter b with an empty space \n",
    "# c) if you wrote your answer as a loop, try with a list comprehension\n",
    "# d) reverse the capitalisation\n",
    "# e) reverse the order of the letters\n",
    "secret_message = 'S1R3E2!!3@4T2R3AT23@@!S2Y3pbO1T3!@@!!4b1E@M134O13C1L3@@Ew41@23!!'\n",
    "secret_message = ''.join(let for let in secret_message if let.isalpha())\n",
    "secret_message = secret_message.replace('b',' ')\n",
    "secret_message = secret_message.swapcase()\n",
    "secret_message = secret_message[::-1] \n",
    "print(secret_message)\n",
    "\n",
    "# alternative answers using re module rather than built-in methods:\n",
    "secret_message_wo_num = re.sub('\\d', '', secret_message)\n",
    "secret_message_let = re.sub(r'\\W+', '', secret_message_wo_num)\n",
    "secret_message_words = re.sub(r'b', ' ', secret_message_let)\n",
    "\n",
    "\n",
    "# f) use built in string methods to do the following\n",
    "\n",
    "s1 = '              please remove the space around me           '\n",
    "s2 = '               please remove the space on my right           '\n",
    "s3 = 'please add the same number of spaces on my left as on my right             '\n",
    "\n",
    "new1_s1 = s1.replace(' ','')\n",
    "new2_s1 = s1.strip()\n",
    "new_s2 = s2.rstrip()\n",
    "new_s3 = s3.center(len(s3) + 30)\n",
    "print(new_s3)\n",
    "\n",
    "# g) combine strings s1 and s2\n",
    "    # do it with and without using built-in string methods\n",
    "print(new1_s1 + new_s2)\n",
    "print(''.join([new1_s1,new_s2]))\n",
    "\n",
    "# h) for a and b (below), compute the following:\n",
    "    # a + b\n",
    "    # a * b\n",
    "    \n",
    "a = '3.1' \n",
    "b = '22.323'   \n",
    "\n",
    "\n",
    "# i) if your result is just one long string, try to cast a and b into integers and try again\n",
    "a = int(float(a))\n",
    "b = int(float(a))\n",
    "print(a+b)\n",
    "print(a*b)\n",
    "# j) replace the {}s below with the value of pi using string methods, for 0, 2 and 5 decimal places respectively\n",
    "\n",
    "'the value of pi is: {0:.0f}, {1:.1f}, {2:.2f}'.format(math.pi , math.pi, math.pi)\n",
    "\n",
    "# k) print the following string: '23\\42\\34\\23\\\\\\//'\n",
    "    # think about what is going on, google it and see why it doesn't work as expected - string literals. Need \\\\\n",
    "print('23\\42\\\\34\\23\\\\/')\n"
   ]
  },
  {
   "cell_type": "markdown",
   "metadata": {},
   "source": [
    "# working with text files "
   ]
  },
  {
   "cell_type": "code",
   "execution_count": 13,
   "metadata": {},
   "outputs": [
    {
     "name": "stdout",
     "output_type": "stream",
     "text": [
      "the new text differs from the original\n",
      "{'a': 6003, 'l': 4001, ' ': 11003, 'w': 1000, 'o': 3003, 'r': 3000, 'k': 2001, 'n': 4000, 'd': 1001, 'p': 2000, 'y': 3001, 'm': 1001, 'e': 6001, 's': 3000, 'S': 1000, 't': 4000, 'v': 2000, 'i': 3000, 'c': 2000, 'u': 1001, '_': 4, 'h': 1, '!': 1}\n",
      "Alphabetic: {'a': 6003, 'l': 4001, 'w': 1000, 'o': 3003, 'r': 3000, 'k': 2001, 'n': 4000, 'd': 1001, 'p': 2000, 'y': 3001, 'm': 1001, 'e': 6001, 's': 3000, 'S': 1000, 't': 4000, 'v': 2000, 'i': 3000, 'c': 2000, 'u': 1001, 'h': 1}\n",
      "Numeric: {}\n",
      "Special: {'_': 4, '!': 1}\n",
      "Alphabetic: [('h', 1), ('k', 2001), ('e', 6001), ('c', 2000), ('i', 3000), ('o', 3003), ('S', 1000), ('l', 4001), ('y', 3001), ('t', 4000), ('r', 3000), ('w', 1000), ('p', 2000), ('a', 6003), ('u', 1001), ('s', 3000), ('m', 1001), ('v', 2000), ('d', 1001), ('n', 4000)]\n",
      "Numeric: []\n",
      "Special: [('!', 1), ('_', 4)]\n"
     ]
    }
   ],
   "source": [
    "import os\n",
    "import collections \n",
    "import string\n",
    "\n",
    "# QUESTION 5\n",
    "# a) load the example dataset '/resources/strings_example_1.txt'\n",
    "# b) change the vowels back to normal characters\n",
    "# c) locate the hidden substring (HINT: the it starts and ends with __)\n",
    "# d) remove this substring and save the modified text in a new variable. Show that this is no longer the same as the original\n",
    "# e) find the counts of each letter in the text such that:\n",
    "    # 'aaAabb dddDD hhcc' >>> [('d',5), ('a',4), ('b',2), ('c',2), ('h', 2)]\n",
    "# f) make a separate list for alphabetical, numeric and special characters\n",
    "    # HINT: you may want to use sets to solve this\n",
    "os.chdir('/Users/fmjgreenstreet/Documents/PyStarters/pystarters-master 2/week_1/assignments/resources')\n",
    "text_file = open('strings_example_1.txt','r') \n",
    "\n",
    "vowel_correction = str.maketrans('&310', 'aeio')\n",
    "new_text = ''\n",
    "for line in text_file: \n",
    "    line = line.translate(vowel_correction)    \n",
    "    hidden_phrase = line[(line.find('__')):(line.rfind('__'))+3]\n",
    "    new_text = line.replace(hidden_phrase,'')\n",
    "    overlap = line.find(new_text)\n",
    "    if overlap == -1:\n",
    "        print('the new text differs from the original')\n",
    "    letter_instances = dict(collections.Counter(line))\n",
    "    print(letter_instances)\n",
    "    letter_instances_alpha = {k: v for k, v in letter_instances.items() if k.isalpha()}\n",
    "    print('Alphabetic:',letter_instances_alpha)\n",
    "    letter_instances_numeric = {k: v for k, v in letter_instances.items() if k.isdigit()}\n",
    "    print('Numeric:',letter_instances_numeric)\n",
    "    letter_instances_special = {k: v for k, v in letter_instances.items() if k in set(string.punctuation)}\n",
    "    print('Special:',letter_instances_special)   \n",
    "\n",
    "    # alternative way of counting:\n",
    "    strs = [set(string.ascii_lowercase), set(string.ascii_uppercase), set(string.digits), set(string.punctuation)]\n",
    "    counted = [(w, line.count(w)) for z in range(0, len(strs)) for w in strs[z] if line.count(w)!=0]\n",
    "    alphab_set = set(string.ascii_lowercase + string.ascii_uppercase)\n",
    "    counted_letters = [(w, line.count(w)) for w in alphab_set if line.count(w)!=0]\n",
    "    print('Alphabetic:',counted_letters)\n",
    "    counted_digits = [(w, line.count(w)) for w in set(string.digits) if line.count(w)!=0]\n",
    "    print('Numeric:',counted_digits)\n",
    "    counted_special = [(w, line.count(w)) for w in set(string.punctuation) if line.count(w)!=0]\n",
    "    print('Special:',counted_special)"
   ]
  },
  {
   "cell_type": "code",
   "execution_count": 30,
   "metadata": {},
   "outputs": [
    {
     "name": "stdout",
     "output_type": "stream",
     "text": [
      "{'neurons': 5, 'exist': 1, 'in': 1, 'a': 5, 'number': 1, 'of': 5, 'different': 1, 'shapes': 1, 'and': 6, 'sizes': 1, 'can': 3, 'be': 3, 'classified': 1, 'by': 4, 'their': 1, 'morphology': 2, 'function': 1, 'the': 12, 'anatomist': 1, 'camillo': 1, 'golgi': 1, 'grouped': 1, 'into': 2, 'two': 1, 'types': 1, 'type': 4, 'i': 3, 'with': 3, 'long': 3, 'axons': 2, 'used': 1, 'to': 1, 'move': 1, 'signals': 2, 'over': 1, 'distances': 1, 'ii': 1, 'short': 1, 'which': 1, 'often': 1, 'confused': 1, 'dendrites': 2, 'cells': 1, 'further': 1, 'divided': 1, 'where': 1, 'cell': 3, 'body': 3, 'or': 1, 'soma': 2, 'is': 2, 'located': 1, 'basic': 1, 'represented': 1, 'spinal': 1, 'motor': 1, 'consists': 1, 'called': 2, 'thin': 1, 'axon': 3, 'covered': 1, 'myelin': 1, 'sheath': 1, 'around': 1, 'branching': 2, 'dendritic': 1, 'tree': 1, 'that': 2, 'receives': 1, 'from': 1, 'other': 1, 'end': 1, 'has': 1, 'terminals': 2, 'terminal': 1, 'release': 1, 'neurotransmitters': 1, 'gap': 1, 'synaptic': 1, 'cleft': 1, 'between': 1, 'next': 1, 'neuron': 1}\n"
     ]
    }
   ],
   "source": [
    "# QUESTION 6 - NEED TO DO\n",
    "# a) load the dataset '/resources/strings_example_2.txt'\n",
    "# b) clean the text and create a flat list containing every word\n",
    "# c) produce a dictionary containing each word as a key and that word's count as the value\n",
    "# d) find the average length of the unique words in the text\n",
    "# e) find the weighted average word lengths\n",
    "\n",
    "import os\n",
    "import string\n",
    "import statistics \n",
    "\n",
    "os.chdir('/Users/fmjgreenstreet/Documents/PyStarters/pystarters-master 2/week_1/assignments/resources')\n",
    "text_example2 = open('strings_example_2.txt')\n",
    "\n",
    "for line in text_example2:\n",
    "    full_text = ''.join(line)\n",
    "    \n",
    "clean_full_text = full_text.replace('\\n', '')\n",
    "word_list = clean_full_text.split()\n",
    "proper_words = string.ascii_lowercase + string.ascii_uppercase + '-'\n",
    "words_in_text = [''.join([w.lower() for w in word if w in proper_words]) for word in word_list]\n",
    "count_words = dict(collections.Counter(words_in_text))\n",
    "print(count_words)\n",
    "\n",
    "\n",
    "len_words = [len(word) for word in words_in_text]\n",
    "mean_len = statistics.mean(len_words)\n",
    "tot_sum = sum(len_words)\n",
    "w_mean = sum([len(word) * count_words[word] for word in words_in_text]) / tot_sum\n"
   ]
  },
  {
   "cell_type": "code",
   "execution_count": null,
   "metadata": {
    "collapsed": true
   },
   "outputs": [],
   "source": [
    "import re\n",
    "# QUESTION 7\n",
    "# modify this code to ensure that email addresses follow the following rules:\n",
    "    # a) all lower case\n",
    "    # b) takes the first letter of the first name and combines with with the whole last name\n",
    "    # c) it removes any extra spaces/unwanted characters\n",
    "    # d) it creates multiple email addresses for all the groups in groups_that_need_emails\n",
    "\n",
    "groups_that_need_emails =  ('pystarters', 'pyclub', 'UCL', 'SWC', 'gatsby')\n",
    "first_name = input('please enter your first name:')\n",
    "first_name = re.sub(\"[^a-zA-Z]+\", \"\", first_name)\n",
    "\n",
    "surname = input('please enter your surname:')\n",
    "surname = re.sub(\"[^a-zA-Z]+\", \"\", surname) # go back and understand...\n",
    "\n",
    "for group in groups_that_need_emails:\n",
    "    email = first_name[0].lower() + '.' + surname.lower() + '@' + group + '.co.uk'\n",
    "    email = email.replace(' ', '')\n",
    "    print(email)"
   ]
  },
  {
   "cell_type": "markdown",
   "metadata": {},
   "source": [
    "# applied question, sorting file names, saving/moving files"
   ]
  },
  {
   "cell_type": "code",
   "execution_count": 38,
   "metadata": {},
   "outputs": [],
   "source": [
    "# QUESTION 8\n",
    "# you have a folder of serial two photon microscope images ('/resources/tissue_vision_files/') containing many (empty) .tif images \n",
    "# the image filenames are of the format mmddyyyy-hhmm-image_index-channel_number.tif\n",
    "# a) generate a list of all the file names\n",
    "# b) sort the lists in a human readable way \n",
    "    # HINT: the file names are not zero-padded, which messes up the sorting\n",
    "# c) separate images 100-200 into three separate lists, one for each channel\n",
    "    # insert 'modified' into all file names: e.g. '02162018-1620-0_01_modified.tif'\n",
    "    # do not include any files that end with .txt\n",
    "# d) save these files to separate folders\n",
    "\n",
    "# what do you think is wrong with these file names? what would you do to make them nicer?\n",
    "\n",
    "import os\n",
    "import re\n",
    "\n",
    "filenames = []\n",
    "ch1 = []\n",
    "ch2 = []\n",
    "ch3 = []\n",
    "os.chdir('/Users/fmjgreenstreet/Documents/PyStarters/pystarters-master 2/week_1/assignments/resources/tissue_vision_files')\n",
    "for root, dirs, files in os.walk(\".\"):  \n",
    "    for filename in files:\n",
    "        if filename.find('.tif') != -1:\n",
    "            filename = filename.replace('.tif', '')\n",
    "            mmddyyyy, hhmm, split_file = re.split(r\"-\", filename)\n",
    "            image_index, channel_number = re.split(r\"_\", split_file)\n",
    "            image_index = image_index.zfill(3)\n",
    "            channel_number = channel_number.zfill(2)\n",
    "            new_name = ''.join([mmddyyyy, \"-\", hhmm, \"-\", image_index, \"_\", channel_number, \"_modified.tif\"])\n",
    "            filenames.append(new_name)\n",
    "filenames = sorted(filenames)\n",
    "\n",
    "selected_files = filenames[100*3: 200*3]\n",
    "ch1 = [file for file in selected_files if file[18:20] == '01']\n",
    "ch2 = [file for file in selected_files if file[18:20] == '02']\n",
    "ch3 = [file for file in selected_files if file[18:20] == '03']"
   ]
  }
 ],
 "metadata": {
  "kernelspec": {
   "display_name": "Python 3",
   "language": "python",
   "name": "python3"
  },
  "language_info": {
   "codemirror_mode": {
    "name": "ipython",
    "version": 3
   },
   "file_extension": ".py",
   "mimetype": "text/x-python",
   "name": "python",
   "nbconvert_exporter": "python",
   "pygments_lexer": "ipython3",
   "version": "3.6.4"
  }
 },
 "nbformat": 4,
 "nbformat_minor": 2
}
