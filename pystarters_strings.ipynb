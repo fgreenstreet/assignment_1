{
 "cells": [
  {
   "cell_type": "markdown",
   "metadata": {},
   "source": [
    "# python as a calculator\n",
    "FOR A FULL LIST OF MATHEMATICAL OPERATIONS IN PYTHON SEE: \n",
    "https://www.tutorialspoint.com/python/python_basic_operators.htm \n",
    "This will be useful later, so only skip it if you know it already"
   ]
  },
  {
   "cell_type": "code",
   "execution_count": 39,
   "metadata": {},
   "outputs": [
    {
     "name": "stdout",
     "output_type": "stream",
     "text": [
      "21.926145564099738\n"
     ]
    }
   ],
   "source": [
    "# QUESTION 1\n",
    "# python can be used like a sort of overkill calculator\n",
    "\n",
    "# a) for these numbers 3, 56, 6, 3, 44, 5, 6, 7775, 32353, 34534, 345:\n",
    "    # find the largest number\n",
    "    # find the smallest number\n",
    "    # find the sum of all the numbers\n",
    "    # use the statistics module to compute:\n",
    "        # the mean\n",
    "        # the median\n",
    "        # the variance\n",
    "        # and standard deviation\n",
    "        \n",
    "import math\n",
    "import statistics\n",
    "import random\n",
    "q1 = [3, 56, 6, 3, 44, 5, 6, 7775, 32353, 34534, 345]\n",
    "max(q1)\n",
    "min(q1)\n",
    "sum(q1)\n",
    "statistics.mean(q1) \n",
    "statistics.variance(q1)\n",
    "statistics.stdev(q1)\n",
    "\n",
    "# b) use the math module to do the following:\n",
    "    # print:\n",
    "        # the value of pi rounded down to the nearest whole number       \n",
    "pi = math.pi\n",
    "math.floor(pi)\n",
    "        # the value of pi rounded up to nearest whole number\n",
    "math.ceil(pi)\n",
    "        # the square root of pi\n",
    "math.sqrt(pi)\n",
    "        # the log of pi\n",
    "math.log(pi)\n",
    "       \n",
    "# c) calculate pi squared divided by pi cubed\n",
    "pi**2/pi**3\n",
    "\n",
    "# d) generate some random numbers\n",
    "random.random()\n",
    "random_number = random.randint(0,6)\n",
    "\n",
    "# e) what is sine(pi/2), sine(pi/4), sine(pi/8)\n",
    "math.sin(pi/2)\n",
    "math.sin(pi/4)\n",
    "math.sin(pi/8)\n",
    "\n",
    "# f) if the result is in radians, convert it to degrees\n",
    "trig_calc = math.degrees(math.sin(pi/8))\n",
    "\n",
    "# g) cast your result from a float into a string\n",
    "trig_calc = str(trig_calc)\n",
    "print(trig_calc)"
   ]
  },
  {
   "cell_type": "markdown",
   "metadata": {},
   "source": [
    "# variable assignment"
   ]
  },
  {
   "cell_type": "code",
   "execution_count": 1,
   "metadata": {
    "collapsed": true
   },
   "outputs": [],
   "source": [
    "# QUESTION 2\n",
    "# a) assign the number 3 to a variable called width, and the number 110 to a variable called height\n",
    "# b) calculate the area and assign it to a new variable called area\n",
    "# c) turns out you got the width and height mixed up, see if you can swap them without re-declaring the width and height variables\n",
    "# d) assign the width and height variables in a single statement\n",
    "\n",
    "width = 3\n",
    "height = 110\n",
    "area = width * height\n",
    "width, height = height, width\n",
    "width, height = 110, 3"
   ]
  },
  {
   "cell_type": "markdown",
   "metadata": {},
   "source": [
    "# control flow - using statements"
   ]
  },
  {
   "cell_type": "code",
   "execution_count": 3,
   "metadata": {},
   "outputs": [
    {
     "name": "stdout",
     "output_type": "stream",
     "text": [
      "0\n",
      "the number is not 4\n",
      "1\n",
      "the number is not 4\n",
      "2\n",
      "the number is not 4\n",
      "3\n",
      "the number is not 4\n",
      "4\n",
      "the number is  4\n",
      "5\n",
      "the number is not 4\n",
      "6\n",
      "the number is not 4\n",
      "7\n",
      "the number is not 4\n",
      "8\n",
      "the number is not 4\n",
      "9\n",
      "the number is not 4\n",
      "10\n",
      "the number is not 4\n",
      "0\n",
      "1\n",
      "2\n",
      "3\n",
      "4\n",
      "5\n",
      "6\n",
      "7\n",
      "8\n",
      "9\n",
      "10\n"
     ]
    }
   ],
   "source": [
    "# QUESTION 3\n",
    "# a) write a simple for loop that counts up to 10 and prints the value\n",
    "# b) use an if statement to print 4 if the value is 4\n",
    "# c) add an else clause to print 'the number is not 4' when it is not 4\n",
    "# d) use an if statement to print if the value is anything other than 4\n",
    "# e) rewrite this using a while loop (HINT: try out using the += operation)\n",
    "\n",
    "for counts in range(0, 11):\n",
    "    print(counts)\n",
    "    if counts == 4:\n",
    "        print('the number is ', counts)\n",
    "    else:\n",
    "        print('the number is not 4')\n",
    "        \n",
    "counts = 0        \n",
    "while counts < 11:\n",
    "    print(counts)\n",
    "    if counts == 4:\n",
    "        print('the number is ', counts)\n",
    "    else:\n",
    "        print('the number is not 4')\n",
    "    counts += 1"
   ]
  },
  {
   "cell_type": "markdown",
   "metadata": {
    "collapsed": true
   },
   "source": [
    "# string manipulation\n",
    "IMPORTANT: if you are uncertain what is meant by built-in method, have a look here (https://docs.python.org/3/library/stdtypes.html) at the different functionality that is built-in to each data type\n"
   ]
  },
  {
   "cell_type": "code",
   "execution_count": 8,
   "metadata": {},
   "outputs": [
    {
     "name": "stdout",
     "output_type": "stream",
     "text": [
      "Welcome to Pystarters\n",
      "          please add the same number of spaces on my left as on my right                       \n",
      "pleaseremovethespacearoundme               please remove the space on my right\n",
      "pleaseremovethespacearoundme               please remove the space on my right\n",
      "6\n",
      "9\n",
      "23\"\\34\u0013\\/\n"
     ]
    }
   ],
   "source": [
    "import math\n",
    "import re\n",
    "\n",
    "#QUESTION 4\n",
    "\n",
    "# a) remove all digits and special characters from the secret message\n",
    "# b) replace all every letter b with an empty space \n",
    "# c) if you wrote your answer as a loop, try with a list comprehension\n",
    "# d) reverse the capitalisation\n",
    "# e) reverse the order of the letters\n",
    "secret_message = 'S1R3E2!!3@4T2R3AT23@@!S2Y3pbO1T3!@@!!4b1E@M134O13C1L3@@Ew41@23!!'\n",
    "secret_message = ''.join(let for let in secret_message if let.isalpha())\n",
    "secret_message = secret_message.replace('b',' ')\n",
    "secret_message = secret_message.swapcase()\n",
    "secret_message = secret_message[::-1] \n",
    "print(secret_message)\n",
    "\n",
    "# alternative answers using re module rather than built-in methods:\n",
    "secret_message_wo_num = re.sub('\\d', '', secret_message)\n",
    "secret_message_let = re.sub(r'\\W+', '', secret_message_wo_num)\n",
    "secret_message_words = re.sub(r'b', ' ', secret_message_let)\n",
    "\n",
    "\n",
    "# f) use built in string methods to do the following\n",
    "\n",
    "s1 = '              please remove the space around me           '\n",
    "s2 = '               please remove the space on my right           '\n",
    "s3 = 'please add the same number of spaces on my left as on my right             '\n",
    "\n",
    "new1_s1 = s1.replace(' ','')\n",
    "new2_s1 = s1.strip()\n",
    "new_s2 = s2.rstrip()\n",
    "new_s3 = s3.center(len(s3) + 30)\n",
    "print(new_s3)\n",
    "\n",
    "# g) combine strings s1 and s2\n",
    "    # do it with and without using built-in string methods\n",
    "print(new1_s1 + new_s2)\n",
    "print(''.join([new1_s1,new_s2]))\n",
    "\n",
    "# h) for a and b (below), compute the following:\n",
    "    # a + b\n",
    "    # a * b\n",
    "    \n",
    "a = '3.1' \n",
    "b = '22.323'   \n",
    "\n",
    "\n",
    "# i) if your result is just one long string, try to cast a and b into integers and try again\n",
    "a = int(float(a))\n",
    "b = int(float(a))\n",
    "print(a+b)\n",
    "print(a*b)\n",
    "# j) replace the {}s below with the value of pi using string methods, for 0, 2 and 5 decimal places respectively\n",
    "\n",
    "'the value of pi is: {0:.0f}, {1:.1f}, {2:.2f}'.format(math.pi , math.pi, math.pi)\n",
    "\n",
    "# k) print the following string: '23\\42\\34\\23\\\\\\//'\n",
    "    # think about what is going on, google it and see why it doesn't work as expected - string literals. Need \\\\\n",
    "print('23\\42\\\\34\\23\\\\/')\n"
   ]
  },
  {
   "cell_type": "markdown",
   "metadata": {},
   "source": [
    "# working with text files "
   ]
  },
  {
   "cell_type": "code",
   "execution_count": 13,
   "metadata": {},
   "outputs": [
    {
     "name": "stdout",
     "output_type": "stream",
     "text": [
      "the new text differs from the original\n",
      "{'a': 6003, 'l': 4001, ' ': 11003, 'w': 1000, 'o': 3003, 'r': 3000, 'k': 2001, 'n': 4000, 'd': 1001, 'p': 2000, 'y': 3001, 'm': 1001, 'e': 6001, 's': 3000, 'S': 1000, 't': 4000, 'v': 2000, 'i': 3000, 'c': 2000, 'u': 1001, '_': 4, 'h': 1, '!': 1}\n",
      "Alphabetic: {'a': 6003, 'l': 4001, 'w': 1000, 'o': 3003, 'r': 3000, 'k': 2001, 'n': 4000, 'd': 1001, 'p': 2000, 'y': 3001, 'm': 1001, 'e': 6001, 's': 3000, 'S': 1000, 't': 4000, 'v': 2000, 'i': 3000, 'c': 2000, 'u': 1001, 'h': 1}\n",
      "Numeric: {}\n",
      "Special: {'_': 4, '!': 1}\n",
      "Alphabetic: [('h', 1), ('k', 2001), ('e', 6001), ('c', 2000), ('i', 3000), ('o', 3003), ('S', 1000), ('l', 4001), ('y', 3001), ('t', 4000), ('r', 3000), ('w', 1000), ('p', 2000), ('a', 6003), ('u', 1001), ('s', 3000), ('m', 1001), ('v', 2000), ('d', 1001), ('n', 4000)]\n",
      "Numeric: []\n",
      "Special: [('!', 1), ('_', 4)]\n"
     ]
    }
   ],
   "source": [
    "import os\n",
    "import collections \n",
    "import string\n",
    "\n",
    "# QUESTION 5\n",
    "# a) load the example dataset '/resources/strings_example_1.txt'\n",
    "# b) change the vowels back to normal characters\n",
    "# c) locate the hidden substring (HINT: the it starts and ends with __)\n",
    "# d) remove this substring and save the modified text in a new variable. Show that this is no longer the same as the original\n",
    "# e) find the counts of each letter in the text such that:\n",
    "    # 'aaAabb dddDD hhcc' >>> [('d',5), ('a',4), ('b',2), ('c',2), ('h', 2)]\n",
    "# f) make a separate list for alphabetical, numeric and special characters\n",
    "    # HINT: you may want to use sets to solve this\n",
    "os.chdir('/Users/fmjgreenstreet/Documents/PyStarters/pystarters-master 2/week_1/assignments/resources')\n",
    "text_file = open('strings_example_1.txt','r') \n",
    "\n",
    "vowel_correction = str.maketrans('&310', 'aeio')\n",
    "new_text = ''\n",
    "for line in text_file: \n",
    "    line = line.translate(vowel_correction)    \n",
    "    hidden_phrase = line[(line.find('__')):(line.rfind('__'))+3]\n",
    "    new_text = line.replace(hidden_phrase,'')\n",
    "    overlap = line.find(new_text)\n",
    "    if overlap == -1:\n",
    "        print('the new text differs from the original')\n",
    "    letter_instances = dict(collections.Counter(line))\n",
    "    print(letter_instances)\n",
    "    letter_instances_alpha = {k: v for k, v in letter_instances.items() if k.isalpha()}\n",
    "    print('Alphabetic:',letter_instances_alpha)\n",
    "    letter_instances_numeric = {k: v for k, v in letter_instances.items() if k.isdigit()}\n",
    "    print('Numeric:',letter_instances_numeric)\n",
    "    letter_instances_special = {k: v for k, v in letter_instances.items() if k in set(string.punctuation)}\n",
    "    print('Special:',letter_instances_special)   \n",
    "\n",
    "    # alternative way of counting:\n",
    "    strs = [set(string.ascii_lowercase), set(string.ascii_uppercase), set(string.digits), set(string.punctuation)]\n",
    "    counted = [(w, line.count(w)) for z in range(0, len(strs)) for w in strs[z] if line.count(w)!=0]\n",
    "    alphab_set = set(string.ascii_lowercase + string.ascii_uppercase)\n",
    "    counted_letters = [(w, line.count(w)) for w in alphab_set if line.count(w)!=0]\n",
    "    print('Alphabetic:',counted_letters)\n",
    "    counted_digits = [(w, line.count(w)) for w in set(string.digits) if line.count(w)!=0]\n",
    "    print('Numeric:',counted_digits)\n",
    "    counted_special = [(w, line.count(w)) for w in set(string.punctuation) if line.count(w)!=0]\n",
    "    print('Special:',counted_special)"
   ]
  },
  {
   "cell_type": "code",
   "execution_count": 2,
   "metadata": {},
   "outputs": [
    {
     "name": "stdout",
     "output_type": "stream",
     "text": [
      "{'neuronfrom': 1, 'wikipedia': 1, 'the': 164, 'free': 1, 'encyclopediathis': 1, 'article': 1, 'is': 37, 'about': 4, 'cells': 15, 'in': 51, 'nervous': 14, 'system': 11, 'for': 14, 'other': 18, 'uses': 2, 'see': 3, 'neuron': 29, 'disambiguationbrain': 1, 'cell': 21, 'redirects': 1, 'here': 2, 'glial': 3, 'cellneuronblausen': 1, '': 43, 'multipolarneuronpnganatomy': 1, 'of': 95, 'a': 63, 'multipolar': 1, 'neuronidentifiersmesh': 1, 'dneurolex': 1, 'id': 1, 'saota': 1, 'ath': 1, 'hfma': 1, 'anatomical': 3, 'terms': 2, 'neuroanatomyedit': 1, 'on': 3, 'wikidatathis': 1, 'schematic': 1, 'shows': 2, 'an': 17, 'anatomically': 1, 'accurate': 1, 'single': 2, 'pyramidal': 3, 'primary': 2, 'excitatory': 2, 'cerebral': 3, 'cortex': 2, 'with': 15, 'synaptic': 7, 'connection': 1, 'from': 22, 'incoming': 1, 'axon': 42, 'onto': 2, 'dendritic': 5, 'spinea': 1, 'also': 12, 'known': 4, 'as': 17, 'neurone': 1, 'british': 1, 'spelling': 1, 'and': 71, 'nerve': 6, 'electrically': 5, 'excitable': 3, 'that': 29, 'receives': 2, 'processes': 1, 'transmits': 1, 'information': 3, 'through': 3, 'electrical': 9, 'chemical': 3, 'signals': 14, 'these': 5, 'between': 8, 'neurons': 43, 'occur': 1, 'via': 4, 'specialized': 5, 'connections': 2, 'called': 13, 'synapses': 8, 'can': 18, 'connect': 3, 'to': 41, 'each': 2, 'form': 1, 'neural': 5, 'networks': 1, 'are': 45, 'components': 3, 'central': 4, 'which': 12, 'includes': 1, 'brain': 11, 'spinal': 6, 'cord': 5, 'peripheral': 5, 'comprises': 1, 'autonomic': 1, 'somatic': 1, 'systemthere': 1, 'many': 8, 'types': 7, 'sensory': 4, 'respond': 1, 'one': 9, 'particular': 1, 'type': 6, 'stimulus': 1, 'such': 5, 'touch': 1, 'sound': 1, 'or': 15, 'light': 1, 'all': 3, 'stimuli': 1, 'affecting': 1, 'organs': 2, 'converts': 1, 'it': 16, 'into': 7, 'signal': 3, 'transduction': 1, 'then': 2, 'sent': 2, 'motor': 4, 'receive': 3, 'cause': 1, 'everything': 1, 'muscle': 1, 'contractions': 1, 'affect': 1, 'glandular': 1, 'outputs': 1, 'interneurons': 1, 'within': 1, 'same': 2, 'region': 2, 'networksa': 1, 'typical': 7, 'consists': 2, 'body': 13, 'soma': 18, 'dendrites': 21, 'term': 1, 'neurite': 1, 'used': 2, 'describe': 1, 'either': 1, 'dendrite': 4, 'particularly': 2, 'its': 3, 'undifferentiated': 1, 'stage': 1, 'thin': 2, 'structures': 5, 'arise': 1, 'often': 5, 'extending': 2, 'hundreds': 4, 'micrometers': 5, 'branching': 7, 'multiple': 2, 'times': 3, 'giving': 2, 'rise': 4, 'complex': 3, 'tree': 3, 'fiber': 1, 'special': 2, 'cellular': 3, 'extension': 1, 'process': 5, 'arises': 1, 'at': 7, 'site': 1, 'hillock': 5, 'travels': 2, 'distance': 2, 'far': 1, 'meter': 2, 'humans': 1, 'even': 2, 'more': 3, 'species': 1, 'most': 8, 'send': 1, 'out': 1, 'down': 1, 'numerous': 2, 'axons': 10, 'bundled': 1, 'fascicles': 1, 'make': 2, 'up': 2, 'nerves': 1, 'like': 2, 'strands': 1, 'wire': 1, 'cables': 1, 'bundles': 1, 'tracts': 1, 'frequently': 1, 'gives': 1, 'but': 8, 'never': 3, 'than': 4, 'although': 1, 'may': 3, 'branch': 2, 'before': 1, 'terminates': 1, 'majority': 3, 'another': 4, 'there': 7, 'however': 4, 'exceptions': 2, 'rules': 1, 'example': 1, 'lack': 5, 'have': 5, 'no': 2, 'dendriteall': 1, 'due': 1, 'maintenance': 1, 'voltage': 7, 'gradients': 1, 'across': 4, 'their': 8, 'membranes': 1, 'by': 20, 'means': 1, 'metabolically': 2, 'driven': 1, 'ion': 9, 'pumps': 3, 'combine': 1, 'channels': 7, 'embedded': 4, 'membrane': 11, 'generate': 1, 'intracellular-versus-extracellular': 1, 'concentration': 1, 'differences': 1, 'ions': 4, 'sodium': 2, 'potassium': 1, 'chloride': 1, 'calcium': 1, 'changes': 2, 'cross-membrane': 2, 'alter': 1, 'function': 5, 'voltage-dependent': 3, 'if': 2, 'large': 2, 'enough': 2, 'amount': 1, 'all-or-none': 2, 'electrochemical': 2, 'pulse': 2, 'action': 6, 'potential': 5, 'generated': 3, 'this': 9, 'change': 1, 'rapidly': 2, 'along': 4, 'activates': 1, 'when': 2, 'arrivesin': 1, 'cases': 1, 'stem': 3, 'during': 3, 'development': 1, 'childhood': 1, 'adult': 2, 'generally': 2, 'do': 1, 'not': 2, 'undergo': 1, 'division': 1, 'astrocytes': 1, 'star-shaped': 1, 'been': 1, 'observed': 1, 'turn': 1, 'virtue': 1, 'characteristic': 1, 'pluripotency': 1, 'neurogenesis': 3, 'largely': 1, 'ceases': 1, 'adulthood': 1, 'areas': 2, 'strong': 1, 'evidence': 1, 'generation': 1, 'substantial': 1, 'numbers': 1, 'new': 1, 'two': 3, 'hippocampus': 1, 'olfactory': 1, 'bulbcontents': 1, 'overview': 1, 'anatomy': 1, 'histology': 2, 'internal': 3, 'structure': 4, 'classification': 4, 'structural': 5, 'polarity': 1, 'functional': 1, 'direction': 1, 'discharge': 1, 'patterns': 1, 'neurotransmitter': 2, 'production': 1, 'connectivity': 1, 'mechanisms': 1, 'propagating': 2, 'potentials': 1, 'coding': 1, 'principle': 1, 'history': 1, 'doctrine': 1, 'neurological': 1, 'disorders': 1, 'demyelination': 1, 'axonal': 2, 'degeneration': 1, 'regeneration': 1, 'references': 1, 'further': 3, 'reading': 1, 'external': 1, 'linksoverviewstructure': 1, 'systemat': 1, 'end': 2, 'elongated': 1, 'mass': 3, 'centre': 1, 'nucleus': 4, 'branches': 4, 'thick': 3, 'trails': 1, 'away': 2, 'ending': 1, 'labeled': 2, 'terminals': 3, 'number': 2, 'protuberances': 1, 'myelin': 2, 'sheathsdendritesomaaxonnucleusnode': 1, 'ofranvieraxon': 1, 'terminalschwann': 1, 'cellmyelin': 1, 'sheathdrawing': 1, 'pigeon': 1, 'cerebellum': 1, 'spanish': 1, 'neuroscientist': 1, 'santiago': 1, 'ramn': 1, 'y': 1, 'cajal': 1, 'denotes': 2, 'purkinje': 1, 'b': 1, 'granule': 1, 'both': 2, 'multipolarneuron': 1, 'bodya': 1, 'found': 3, 'bodies': 3, 'eumetozoans': 1, 'only': 4, 'sponges': 1, 'few': 2, 'simpler': 1, 'animals': 1, 'features': 1, 'define': 1, 'excitability': 1, 'presence': 1, 'junctions': 1, 'transmit': 1, 'bodys': 1, 'plus': 1, 'give': 2, 'them': 1, 'metabolic': 1, 'support': 1, 'together': 1, 'constitute': 1, 'vertebrates': 1, 'belong': 1, 'some': 6, 'reside': 1, 'ganglia': 1, 'situated': 1, 'retina': 1, 'cochleaa': 1, 'divided': 2, 'three': 1, 'parts': 4, 'usually': 4, 'compact': 1, 'filaments': 2, 'extrude': 1, 'typically': 3, 'profusely': 1, 'getting': 1, 'thinner': 1, 'farthest': 1, 'hundred': 1, 'leaves': 1, 'swelling': 1, 'extend': 2, 'great': 1, 'distances': 2, 'unlike': 1, 'maintains': 1, 'diameter': 5, 'extends': 1, 'received': 2, 'transmitted': 1, 'synapse': 1, 'contact': 1, 'be': 8, 'inhibitory': 1, 'net': 1, 'excitation': 1, 'over': 4, 'short': 2, 'period': 1, 'time': 1, 'generates': 1, 'brief': 1, 'originates': 1, 'propagates': 1, 'activating': 1, 'goesmany': 1, 'fit': 1, 'foregoing': 1, 'schema': 1, 'every': 2, 'respect': 1, 'others': 2, 'furthermore': 1, 'addition': 1, 'axodendritic': 1, 'axosomatic': 1, 'axoaxonic': 1, 'axon-to-axon': 1, 'dendrodendritic': 1, 'dendrite-to-dendrite': 1, 'synapsesthe': 1, 'key': 1, 'signaling': 1, 'partly': 2, 'aspect': 1, 'depends': 1, 'properties': 2, 'animal': 1, 'enclosed': 1, 'plasma': 1, 'bilayer': 2, 'lipid': 2, 'molecules': 1, 'protein': 6, 'powerful': 1, 'insulator': 1, 'active': 2, 'include': 1, 'permit': 1, 'charged': 2, 'flow': 1, 'actively': 1, 'transport': 1, 'side': 1, 'permeable': 1, 'specific': 1, 'gated': 2, 'meaning': 2, 'they': 3, 'switched': 2, 'open': 2, 'closed': 2, 'states': 2, 'altering': 1, 'difference': 2, 'chemically': 1, 'interactions': 2, 'chemicals': 2, 'diffuse': 1, 'extracellular': 1, 'fluid': 1, 'produce': 1, 'bit': 1, 'less': 1, 'volt': 1, 'baseline': 1, 'has': 4, 'functions': 3, 'first': 1, 'provides': 2, 'power': 1, 'source': 1, 'assortment': 1, 'machinery': 1, 'second': 1, 'basis': 1, 'transmission': 3, 'different': 4, 'membraneneurons': 1, 'communicate': 2, 'neurotransmission': 1, 'fundamental': 1, 'triggers': 1, 'release': 2, 'neurotransmitters': 2, 'exploiting': 1, 'wave': 1, 'depolarizationanatomy': 1, 'histologydiagram': 1, 'myelinated': 1, 'vertebrate': 1, 'neuronneurons': 1, 'highly': 1, 'processing': 1, 'given': 1, 'diversity': 1, 'performed': 1, 'wide': 1, 'variety': 1, 'shape': 2, 'size': 2, 'instance': 1, 'vary': 1, 'contains': 3, 'synthesis': 3, 'occurs': 2, 'range': 1, 'extensions': 1, 'overall': 1, 'referred': 1, 'metaphorically': 1, 'where': 4, 'input': 2, 'spine': 2, 'finer': 1, 'cable-like': 1, 'projection': 1, 'tens': 2, 'thousands': 1, 'length': 3, 'carries': 2, 'back': 1, 'mayand': 1, 'willundergo': 1, 'extensive': 1, 'enabling': 1, 'communication': 1, 'target': 2, 'part': 3, 'emerges': 1, 'besides': 1, 'being': 1, 'greatest': 1, 'density': 1, 'makes': 1, 'easily': 1, 'excited': 1, 'spike': 1, 'initiation': 1, 'zone': 2, 'electrophysiological': 1, 'negative': 1, 'threshold': 1, 'while': 2, 'involved': 2, 'outflow': 1, 'terminal': 2, 'released': 1, 'neuronsthe': 1, 'accepted': 1, 'view': 1, 'attributes': 1, 'dedicated': 1, 'various': 1, 'act': 1, 'ways': 1, 'contrary': 1, 'so-called': 1, 'main': 1, 'functionaxons': 1, 'micrometer': 1, 'much': 3, 'thicker': 1, 'larger': 2, 'longest': 1, 'human': 3, 'long': 4, 'reaching': 1, 'base': 1, 'toessensory': 1, 'run': 1, 'toes': 1, 'posterior': 1, 'column': 1, 'meters': 2, 'adults': 1, 'giraffes': 1, 'several': 2, 'running': 1, 'entire': 1, 'necks': 1, 'what': 1, 'comes': 1, 'studying': 1, 'squid': 1, 'giant': 1, 'ideal': 1, 'experimental': 1, 'preparation': 1, 'because': 1, 'relatively': 1, 'immense': 1, 'millimeters': 1, 'centimeters': 1, 'longfully': 1, 'differentiated': 1, 'permanently': 1, 'postmitotic': 1, 'research': 1, 'starting': 1, 'around': 2, 'additional': 1, 'throughout': 2, 'originate': 1, 'concentrated': 1, 'subventricular': 1, 'subgranular': 1, 'zonehistology': 1, 'structuregolgi-stained': 1, 'hippocampal': 1, 'tissueactin': 1, 'mouse': 2, 'cortical': 1, 'culturenumerous': 1, 'microscopic': 1, 'clumps': 1, 'nissl': 3, 'substance': 1, 'seen': 1, 'stained': 1, 'basophilic': 2, 'base-loving': 1, 'dye': 1, 'consist': 1, 'rough': 1, 'endoplasmic': 2, 'reticulum': 2, 'associated': 1, 'ribosomal': 2, 'rna': 1, 'named': 1, 'after': 1, 'german': 1, 'psychiatrist': 1, 'neuropathologist': 1, 'franz': 1, 'prominence': 1, 'explained': 1, 'fact': 1, 'very': 1, 'dyes': 1, 'aniline': 1, 'weakly': 1, 'haematoxylin': 1, 'highlight': 1, 'negatively': 1, 'so': 1, 'bind': 1, 'phosphate': 1, 'backbone': 1, 'rnathe': 1, 'supported': 1, 'mesh': 1, 'proteins': 2, 'neurofilaments': 1, 'assembled': 1, 'neurofibrils': 1, 'contain': 3, 'pigment': 3, 'granules': 1, 'neuromelanin': 1, 'brownish-black': 1, 'byproduct': 1, 'catecholamines': 1, 'lipofuscin': 1, 'yellowish-brown': 1, 'accumulate': 1, 'age': 1, 'important': 1, 'neuronal': 2, 'actin': 2, 'tubulin': 1, 'microtubules': 1, 'predominately': 1, 'tips': 1, 'developmentthere': 1, 'characteristics': 1, 'almost': 1, 'ribosomes': 2, 'except': 1, 'initial': 1, 'segment': 1, 'granular': 1, 'diminishing': 1, 'amounts': 1, 'increasesclassificationimage': 1, 'expressing': 1, 'green': 1, 'fluorescent': 1, 'red': 1, 'staining': 1, 'indicates': 1, 'gabaergic': 1, 'interneuronssmi-stained': 1, 'cortexsee': 1, 'list': 1, 'distinct': 1, 'systemneurons': 1, 'exist': 1, 'shapes': 1, 'sizes': 1, 'classified': 1, 'morphology': 2, 'anatomist': 1, 'camillo': 1, 'golgi': 1, 'grouped': 1, 'i': 3, 'move': 1, 'ii': 1, 'confused': 1, 'located': 1, 'basic': 1, 'represented': 1, 'covered': 1, 'sheath': 1, 'gap': 1, 'cleft': 1, 'next': 1}\n"
     ]
    }
   ],
   "source": [
    "# QUESTION 6 - NEED TO DO\n",
    "# a) load the dataset '/resources/strings_example_2.txt'\n",
    "# b) clean the text and create a flat list containing every word\n",
    "# c) produce a dictionary containing each word as a key and that word's count as the value\n",
    "# d) find the average length of the unique words in the text\n",
    "# e) find the weighted average word lengths\n",
    "\n",
    "import os\n",
    "import string\n",
    "import statistics \n",
    "import collections\n",
    "\n",
    "os.chdir('/Users/fmjgreenstreet/Documents/PyStarters/pystarters-master 2/week_1/assignments/resources')\n",
    "text_example2 = open('strings_example_2.txt')\n",
    "full_text = ''\n",
    "for line in text_example2:\n",
    "    full_text = full_text + line\n",
    "    \n",
    "clean_full_text = full_text.replace('\\n', '')\n",
    "word_list = clean_full_text.split()\n",
    "proper_words = string.ascii_lowercase + string.ascii_uppercase + '-'\n",
    "words_in_text = [''.join([w.lower() for w in word if w in proper_words]) for word in word_list]\n",
    "count_words = dict(collections.Counter(words_in_text))\n",
    "print(count_words)\n",
    "\n",
    "\n",
    "len_words = [len(word) for word in words_in_text]\n",
    "mean_len = statistics.mean(len_words)\n",
    "tot_sum = sum(len_words)\n",
    "w_mean = sum([len(word) * count_words[word] for word in words_in_text]) / tot_sum\n"
   ]
  },
  {
   "cell_type": "code",
   "execution_count": null,
   "metadata": {
    "collapsed": true
   },
   "outputs": [],
   "source": [
    "import re\n",
    "# QUESTION 7\n",
    "# modify this code to ensure that email addresses follow the following rules:\n",
    "    # a) all lower case\n",
    "    # b) takes the first letter of the first name and combines with with the whole last name\n",
    "    # c) it removes any extra spaces/unwanted characters\n",
    "    # d) it creates multiple email addresses for all the groups in groups_that_need_emails\n",
    "\n",
    "groups_that_need_emails =  ('pystarters', 'pyclub', 'UCL', 'SWC', 'gatsby')\n",
    "first_name = input('please enter your first name:')\n",
    "first_name = re.sub(\"[^a-zA-Z]+\", \"\", first_name)\n",
    "\n",
    "surname = input('please enter your surname:')\n",
    "surname = re.sub(\"[^a-zA-Z]+\", \"\", surname) # go back and understand...\n",
    "\n",
    "for group in groups_that_need_emails:\n",
    "    email = first_name[0].lower() + '.' + surname.lower() + '@' + group + '.co.uk'\n",
    "    email = email.replace(' ', '')\n",
    "    print(email)"
   ]
  },
  {
   "cell_type": "markdown",
   "metadata": {},
   "source": [
    "# applied question, sorting file names, saving/moving files"
   ]
  },
  {
   "cell_type": "code",
   "execution_count": 38,
   "metadata": {
    "collapsed": true
   },
   "outputs": [],
   "source": [
    "# QUESTION 8\n",
    "# you have a folder of serial two photon microscope images ('/resources/tissue_vision_files/') containing many (empty) .tif images \n",
    "# the image filenames are of the format mmddyyyy-hhmm-image_index-channel_number.tif\n",
    "# a) generate a list of all the file names\n",
    "# b) sort the lists in a human readable way \n",
    "    # HINT: the file names are not zero-padded, which messes up the sorting\n",
    "# c) separate images 100-200 into three separate lists, one for each channel\n",
    "    # insert 'modified' into all file names: e.g. '02162018-1620-0_01_modified.tif'\n",
    "    # do not include any files that end with .txt\n",
    "# d) save these files to separate folders\n",
    "\n",
    "# what do you think is wrong with these file names? what would you do to make them nicer?\n",
    "\n",
    "import os\n",
    "import re\n",
    "\n",
    "filenames = []\n",
    "ch1 = []\n",
    "ch2 = []\n",
    "ch3 = []\n",
    "os.chdir('/Users/fmjgreenstreet/Documents/PyStarters/pystarters-master 2/week_1/assignments/resources/tissue_vision_files')\n",
    "for root, dirs, files in os.walk(\".\"):  \n",
    "    for filename in files:\n",
    "        if filename.find('.tif') != -1:\n",
    "            filename = filename.replace('.tif', '')\n",
    "            mmddyyyy, hhmm, split_file = re.split(r\"-\", filename)\n",
    "            image_index, channel_number = re.split(r\"_\", split_file)\n",
    "            image_index = image_index.zfill(3)\n",
    "            channel_number = channel_number.zfill(2)\n",
    "            new_name = ''.join([mmddyyyy, \"-\", hhmm, \"-\", image_index, \"_\", channel_number, \"_modified.tif\"])\n",
    "            filenames.append(new_name)\n",
    "filenames = sorted(filenames)\n",
    "\n",
    "selected_files = filenames[100*3: 200*3]\n",
    "ch1 = [file for file in selected_files if file[18:20] == '01']\n",
    "ch2 = [file for file in selected_files if file[18:20] == '02']\n",
    "ch3 = [file for file in selected_files if file[18:20] == '03']"
   ]
  }
 ],
 "metadata": {
  "kernelspec": {
   "display_name": "Python 3",
   "language": "python",
   "name": "python3"
  },
  "language_info": {
   "codemirror_mode": {
    "name": "ipython",
    "version": 3
   },
   "file_extension": ".py",
   "mimetype": "text/x-python",
   "name": "python",
   "nbconvert_exporter": "python",
   "pygments_lexer": "ipython3",
   "version": "3.6.4"
  }
 },
 "nbformat": 4,
 "nbformat_minor": 2
}
